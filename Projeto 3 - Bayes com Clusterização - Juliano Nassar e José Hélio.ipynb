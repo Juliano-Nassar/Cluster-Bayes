{
 "cells": [
  {
   "cell_type": "markdown",
   "metadata": {},
   "source": [
    "# Projeto 3 - Detector de fraudes bancarias utilizando Bayes com Clusterização\n",
    "\n",
    "## Informações do Projeto\n",
    "\n",
    "Prazo: 16/Nov até às 23:59.<br />\n",
    "Grupo: José Hélio Paiva - Juliano Nassar<br /><br />\n",
    "Entregamos via GitHub: \n",
    "* https://github.com/Juliano-Nassar/Cluster-Bayes\n",
    "\n",
    "**Todos os arquivos necessários para utilizar o DataFrame estarão no GITHUB, a pasta esta compactada pois o DataFrame é muito Grande. É necessário descompactar a pasta.**\n",
    "\n",
    "Estamos fazendo esse projeto com o intuito de aumentar nosso conhecimento em Naive Bayes e aprender um pouco de uma ferramenta que achamos que será útil em projetos futuros, além de pensarmos também em resolver um problema que está se tornando bem recorrente no meio bancário e acreditamos que se fizermos um bom trabalho com esse projeto isso pode significar uma porta nova se abrindo para um futuro estagio. <br /><br />\n",
    "Como bons alunos de Ciência dos Dados, além do Naive Bayes que nos foi indicado pelo professor para fazer o projeto do detector de fraudes bancarias queremos utilizar também uma ferramenta nova, para deixar o projeto mais interessante e eficiente.\n"
   ]
  },
  {
   "cell_type": "markdown",
   "metadata": {},
   "source": [
    "Encontramos nosso DataFrame em um site chamado Kaggle, indicado pelo nosso profesor Raul Ikeda (link do DataFrame: https://www.kaggle.com/ntnu-testimon/paysim1). Nesse projeto iremos utilizar nosso conhecimento, que já foi colocado a prova em outro projeto, sobre Naive Bayes, o qual iremos deixar um exemplo abaixo."
   ]
  },
  {
   "cell_type": "markdown",
   "metadata": {},
   "source": [
    "# def Bayes(ProbR,DICR,X):\n",
    "    listaV=[]\n",
    "    for i in PTET[1]:\n",
    "        j=mpf(len(X))\n",
    "        v=mpf(len(DICPT))\n",
    "        cont2=ProbR\n",
    "        for u in i:\n",
    "            if u in DICR:\n",
    "\n",
    "                cont2= cont2*DICR[u]\n",
    "\n",
    "            else:\n",
    "                cont2= cont2*(1/(j+v))\n",
    "\n",
    "        listaV.append(cont2)\n",
    "    return listaV\n",
    "    \n",
    "**(Exemplo retirado do projeto 2 de Ciência dos Dados de José Hélio Paiva Neto)**"
   ]
  },
  {
   "cell_type": "markdown",
   "metadata": {},
   "source": [
    "Iremos também utilizar conhecimentos que estamos adquirindo agora de Clusterização, para nos permitir fazer a separação do nosso DataFrame em grupos, o que irá deixar nosso projeto bem mais eficiente."
   ]
  },
  {
   "cell_type": "code",
   "execution_count": null,
   "metadata": {
    "collapsed": true
   },
   "outputs": [],
   "source": []
  },
  {
   "cell_type": "markdown",
   "metadata": {},
   "source": [
    "Após validado, o seu protótipo poderá também capturar e classificar automaticamente as mensagens da plataforma."
   ]
  },
  {
   "cell_type": "code",
   "execution_count": 22,
   "metadata": {
    "collapsed": true
   },
   "outputs": [],
   "source": [
    "#Importes\n",
    "import math\n",
    "import os.path\n",
    "import pandas as pd\n",
    "import json\n",
    "from string import *\n",
    "from random import shuffle\n",
    "import sys\n",
    "from mpmath import *\n"
   ]
  },
  {
   "cell_type": "code",
   "execution_count": 19,
   "metadata": {},
   "outputs": [],
   "source": [
    "df=pd.read_excel('PS_20174392719_1491204439457_log.xlsx')"
   ]
  },
  {
   "cell_type": "code",
   "execution_count": 21,
   "metadata": {},
   "outputs": [
    {
     "data": {
      "text/html": [
       "<div>\n",
       "<style>\n",
       "    .dataframe thead tr:only-child th {\n",
       "        text-align: right;\n",
       "    }\n",
       "\n",
       "    .dataframe thead th {\n",
       "        text-align: left;\n",
       "    }\n",
       "\n",
       "    .dataframe tbody tr th {\n",
       "        vertical-align: top;\n",
       "    }\n",
       "</style>\n",
       "<table border=\"1\" class=\"dataframe\">\n",
       "  <thead>\n",
       "    <tr style=\"text-align: right;\">\n",
       "      <th></th>\n",
       "      <th>step</th>\n",
       "      <th>type</th>\n",
       "      <th>amount</th>\n",
       "      <th>nameOrig</th>\n",
       "      <th>oldbalanceOrg</th>\n",
       "      <th>newbalanceOrig</th>\n",
       "      <th>nameDest</th>\n",
       "      <th>oldbalanceDest</th>\n",
       "      <th>newbalanceDest</th>\n",
       "      <th>isFraud</th>\n",
       "      <th>isFlaggedFraud</th>\n",
       "    </tr>\n",
       "  </thead>\n",
       "  <tbody>\n",
       "    <tr>\n",
       "      <th>0</th>\n",
       "      <td>1</td>\n",
       "      <td>PAYMENT</td>\n",
       "      <td>983964</td>\n",
       "      <td>C1231006815</td>\n",
       "      <td>1701360</td>\n",
       "      <td>16029636</td>\n",
       "      <td>M1979787155</td>\n",
       "      <td>0</td>\n",
       "      <td>0</td>\n",
       "      <td>0</td>\n",
       "      <td>0</td>\n",
       "    </tr>\n",
       "    <tr>\n",
       "      <th>1</th>\n",
       "      <td>1</td>\n",
       "      <td>PAYMENT</td>\n",
       "      <td>186428</td>\n",
       "      <td>C1666544295</td>\n",
       "      <td>212490</td>\n",
       "      <td>1938472</td>\n",
       "      <td>M2044282225</td>\n",
       "      <td>0</td>\n",
       "      <td>0</td>\n",
       "      <td>0</td>\n",
       "      <td>0</td>\n",
       "    </tr>\n",
       "    <tr>\n",
       "      <th>2</th>\n",
       "      <td>1</td>\n",
       "      <td>TRANSFER</td>\n",
       "      <td>1810</td>\n",
       "      <td>C1305486145</td>\n",
       "      <td>1810</td>\n",
       "      <td>0</td>\n",
       "      <td>C553264065</td>\n",
       "      <td>0</td>\n",
       "      <td>0</td>\n",
       "      <td>1</td>\n",
       "      <td>0</td>\n",
       "    </tr>\n",
       "    <tr>\n",
       "      <th>3</th>\n",
       "      <td>1</td>\n",
       "      <td>CASH_OUT</td>\n",
       "      <td>1810</td>\n",
       "      <td>C840083671</td>\n",
       "      <td>1810</td>\n",
       "      <td>0</td>\n",
       "      <td>C38997010</td>\n",
       "      <td>211820</td>\n",
       "      <td>0</td>\n",
       "      <td>1</td>\n",
       "      <td>0</td>\n",
       "    </tr>\n",
       "    <tr>\n",
       "      <th>4</th>\n",
       "      <td>1</td>\n",
       "      <td>PAYMENT</td>\n",
       "      <td>1166814</td>\n",
       "      <td>C2048537720</td>\n",
       "      <td>415540</td>\n",
       "      <td>2988586</td>\n",
       "      <td>M1230701703</td>\n",
       "      <td>0</td>\n",
       "      <td>0</td>\n",
       "      <td>0</td>\n",
       "      <td>0</td>\n",
       "    </tr>\n",
       "  </tbody>\n",
       "</table>\n",
       "</div>"
      ],
      "text/plain": [
       "   step      type   amount     nameOrig  oldbalanceOrg  newbalanceOrig  \\\n",
       "0     1   PAYMENT   983964  C1231006815        1701360        16029636   \n",
       "1     1   PAYMENT   186428  C1666544295         212490         1938472   \n",
       "2     1  TRANSFER     1810  C1305486145           1810               0   \n",
       "3     1  CASH_OUT     1810   C840083671           1810               0   \n",
       "4     1   PAYMENT  1166814  C2048537720         415540         2988586   \n",
       "\n",
       "      nameDest  oldbalanceDest  newbalanceDest  isFraud  isFlaggedFraud  \n",
       "0  M1979787155               0               0        0               0  \n",
       "1  M2044282225               0               0        0               0  \n",
       "2   C553264065               0               0        1               0  \n",
       "3    C38997010          211820               0        1               0  \n",
       "4  M1230701703               0               0        0               0  "
      ]
     },
     "execution_count": 21,
     "metadata": {},
     "output_type": "execute_result"
    }
   ],
   "source": [
    "df.head()"
   ]
  },
  {
   "cell_type": "code",
   "execution_count": null,
   "metadata": {},
   "outputs": [],
   "source": []
  },
  {
   "cell_type": "code",
   "execution_count": null,
   "metadata": {
    "collapsed": true
   },
   "outputs": [],
   "source": []
  }
 ],
 "metadata": {
  "kernelspec": {
   "display_name": "Python 2",
   "language": "python",
   "name": "python2"
  },
  "language_info": {
   "codemirror_mode": {
    "name": "ipython",
    "version": 2
   },
   "file_extension": ".py",
   "mimetype": "text/x-python",
   "name": "python",
   "nbconvert_exporter": "python",
   "pygments_lexer": "ipython2",
   "version": "2.7.13"
  }
 },
 "nbformat": 4,
 "nbformat_minor": 2
}

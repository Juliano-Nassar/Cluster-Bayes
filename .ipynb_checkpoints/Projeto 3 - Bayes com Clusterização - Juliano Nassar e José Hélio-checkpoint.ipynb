{
 "cells": [
  {
   "cell_type": "markdown",
   "metadata": {},
   "source": [
    "# Projeto 3 - Detector de fraudes bancarias utilizando Bayes com Clusterização\n",
    "\n",
    "## Informações do Projeto\n",
    "\n",
    "Prazo: 16/Nov até às 23:59.<br />\n",
    "Grupo: José Hélio Paiva - Juliano Nassar<br /><br />\n",
    "Entregamos via GitHub: \n",
    "* https://github.com/Juliano-Nassar/Cluster-Bayes\n",
    "\n",
    "**Todos os arquivos necessários para utilizar o DataFrame estarão no GITHUB, a pasta esta compactada pois o DataFrame é muito Grande. É necessário descompactar a pasta.**\n",
    "\n",
    "Estamos fazendo esse projeto com o intuito de aumentar nosso conhecimento em Naive Bayes e aprender um pouco de uma ferramenta que achamos que será útil em projetos futuros, além de pensarmos também em resolver um problema que está se tornando bem recorrente no meio bancário e acreditamos que se fizermos um bom trabalho com esse projeto isso pode significar uma porta nova se abrindo para um futuro estagio. <br /><br />\n",
    "Como bons alunos de Ciência dos Dados, além do Naive Bayes que nos foi indicado pelo professor para fazer o projeto do detector de fraudes bancarias queremos utilizar também uma ferramenta nova, para deixar o projeto mais interessante e eficiente.\n"
   ]
  },
  {
   "cell_type": "markdown",
   "metadata": {},
   "source": [
    "Encontramos nosso DataFrame em um site chamado Kaggle, indicado pelo nosso profesor Raul Ikeda (link do DataFrame: https://www.kaggle.com/ntnu-testimon/paysim1). Nesse projeto iremos utilizar nosso conhecimento, que já foi colocado a prova em outro projeto, sobre Naive Bayes, o qual iremos deixar um exemplo abaixo."
   ]
  },
  {
   "cell_type": "markdown",
   "metadata": {},
   "source": [
    "# def Bayes(ProbR,DICR,X):\n",
    "    listaV=[]\n",
    "    for i in PTET[1]:\n",
    "        j=mpf(len(X))\n",
    "        v=mpf(len(DICPT))\n",
    "        cont2=ProbR\n",
    "        for u in i:\n",
    "            if u in DICR:\n",
    "\n",
    "                cont2= cont2*DICR[u]\n",
    "\n",
    "            else:\n",
    "                cont2= cont2*(1/(j+v))\n",
    "\n",
    "        listaV.append(cont2)\n",
    "    return listaV\n",
    "    \n",
    "**(Exemplo retirado do projeto 2 de Ciência dos Dados de José Hélio Paiva Neto)**"
   ]
  },
  {
   "cell_type": "markdown",
   "metadata": {},
   "source": [
    "Iremos também utilizar conhecimentos que estamos adquirindo agora de Clusterização, para nos permitir fazer a separação do nosso DataFrame em grupos, o que irá deixar nosso projeto bem mais eficiente."
   ]
  },
  {
   "cell_type": "code",
   "execution_count": null,
   "metadata": {
    "collapsed": true
   },
   "outputs": [],
   "source": []
  },
  {
   "cell_type": "markdown",
   "metadata": {},
   "source": [
    "Após validado, o seu protótipo poderá também capturar e classificar automaticamente as mensagens da plataforma."
   ]
  },
  {
   "cell_type": "code",
   "execution_count": null,
   "metadata": {
    "collapsed": true
   },
   "outputs": [],
   "source": [
    "#leitura do arquivo no formato JSON\n",
    "with open(C:\\Data Frame - paysim1 r'C:\\Users\\hpaiv\\Desktop\\Insper\\Pass\\auth.pass') as fp:    \n",
    "    data = json.load(fp)"
   ]
  },
  {
   "cell_type": "code",
   "execution_count": null,
   "metadata": {
    "collapsed": true
   },
   "outputs": [],
   "source": []
  }
 ],
 "metadata": {
  "kernelspec": {
   "display_name": "Python 2",
   "language": "python",
   "name": "python2"
  },
  "language_info": {
   "codemirror_mode": {
    "name": "ipython",
    "version": 2
   },
   "file_extension": ".py",
   "mimetype": "text/x-python",
   "name": "python",
   "nbconvert_exporter": "python",
   "pygments_lexer": "ipython2",
   "version": "2.7.13"
  }
 },
 "nbformat": 4,
 "nbformat_minor": 2
}
